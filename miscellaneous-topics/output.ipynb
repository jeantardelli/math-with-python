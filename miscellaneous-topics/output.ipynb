{
 "cells": [
  {
   "cell_type": "markdown",
   "id": "retained-thomas",
   "metadata": {
    "papermill": {
     "duration": 0.009499,
     "end_time": "2021-03-29T20:25:08.448342",
     "exception": false,
     "start_time": "2021-03-29T20:25:08.438843",
     "status": "completed"
    },
    "tags": []
   },
   "source": [
    "# Sample Jupyter notebook\n",
    "This is a sample notebook."
   ]
  },
  {
   "cell_type": "code",
   "execution_count": 1,
   "id": "strong-weather",
   "metadata": {
    "execution": {
     "iopub.execute_input": "2021-03-29T20:25:08.474985Z",
     "iopub.status.busy": "2021-03-29T20:25:08.474204Z",
     "iopub.status.idle": "2021-03-29T20:25:08.850484Z",
     "shell.execute_reply": "2021-03-29T20:25:08.849708Z"
    },
    "papermill": {
     "duration": 0.395523,
     "end_time": "2021-03-29T20:25:08.850642",
     "exception": false,
     "start_time": "2021-03-29T20:25:08.455119",
     "status": "completed"
    },
    "tags": []
   },
   "outputs": [],
   "source": [
    "import matplotlib.pyplot as plt\n",
    "from numpy.random import default_rng\n",
    "rng = default_rng(12345)"
   ]
  },
  {
   "cell_type": "code",
   "execution_count": 2,
   "id": "outdoor-horizon",
   "metadata": {
    "execution": {
     "iopub.execute_input": "2021-03-29T20:25:08.866864Z",
     "iopub.status.busy": "2021-03-29T20:25:08.865867Z",
     "iopub.status.idle": "2021-03-29T20:25:08.870702Z",
     "shell.execute_reply": "2021-03-29T20:25:08.869883Z"
    },
    "papermill": {
     "duration": 0.015531,
     "end_time": "2021-03-29T20:25:08.870903",
     "exception": false,
     "start_time": "2021-03-29T20:25:08.855372",
     "status": "completed"
    },
    "tags": []
   },
   "outputs": [],
   "source": [
    "uniform_data = rng.uniform(-5, 5, size=(2, 100))"
   ]
  },
  {
   "cell_type": "code",
   "execution_count": 3,
   "id": "loose-insertion",
   "metadata": {
    "execution": {
     "iopub.execute_input": "2021-03-29T20:25:08.904039Z",
     "iopub.status.busy": "2021-03-29T20:25:08.902598Z",
     "iopub.status.idle": "2021-03-29T20:25:09.123968Z",
     "shell.execute_reply": "2021-03-29T20:25:09.122979Z"
    },
    "papermill": {
     "duration": 0.247096,
     "end_time": "2021-03-29T20:25:09.124237",
     "exception": false,
     "start_time": "2021-03-29T20:25:08.877141",
     "status": "completed"
    },
    "tags": []
   },
   "outputs": [
    {
     "data": {
      "text/plain": [
       "[Text(0, 0.5, 'y'), Text(0.5, 0, 'x'), Text(0.5, 1.0, 'Scatter plot')]"
      ]
     },
     "execution_count": 3,
     "metadata": {},
     "output_type": "execute_result"
    },
    {
     "data": {
      "image/png": "[encoded data removed]",
      "text/plain": [
       "<Figure size 432x288 with 1 Axes>"
      ]
     },
     "metadata": {
      "needs_background": "light"
     },
     "output_type": "display_data"
    }
   ],
   "source": [
    "fig, ax = plt.subplots(tight_layout=True)\n",
    "ax.scatter(uniform_data[0, :], uniform_data[1, :])\n",
    "ax.set(title=\"Scatter plot\", xlabel=\"x\", ylabel=\"y\")"
   ]
  }
 ],
 "metadata": {
  "kernelspec": {
   "display_name": "Python 3.8.2 64-bit",
   "name": "python38264bit701ec369e6034f5b8233813c354be1bc"
  },
  "language_info": {
   "codemirror_mode": {
    "name": "ipython",
    "version": 3
   },
   "file_extension": ".py",
   "mimetype": "text/x-python",
   "name": "python",
   "nbconvert_exporter": "python",
   "pygments_lexer": "ipython3",
   "version": "3.8.5"
  },
  "papermill": {
   "default_parameters": {},
   "duration": 2.082437,
   "end_time": "2021-03-29T20:25:09.443632",
   "environment_variables": {},
   "exception": null,
   "input_path": "miscellaneous-topics/sample.ipynb",
   "output_path": "miscellaneous-topics/output.ipynb",
   "parameters": {},
   "start_time": "2021-03-29T20:25:07.361195",
   "version": "2.3.3"
  }
 },
 "nbformat": 4,
 "nbformat_minor": 5
}